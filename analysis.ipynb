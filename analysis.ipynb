{
 "cells": [
  {
   "cell_type": "code",
   "execution_count": null,
   "metadata": {},
   "outputs": [],
   "source": [
    "import pandas as pd\n",
    "from pathlib import Path\n",
    "\n",
    "# File to Load (Remember to Change These)\n",
    "unemployed = Path(\"Resources/Unemployment_Canada_1976_present.csv\")\n"
   ]
  },
  {
   "cell_type": "markdown",
   "metadata": {},
   "source": [
    "# Unemployment\n",
    "\n"
   ]
  },
  {
   "cell_type": "code",
   "execution_count": null,
   "metadata": {},
   "outputs": [],
   "source": [
    "unemployed_df = pd.read_csv(unemployed)\n",
    "unemployed_df.head()\n"
   ]
  },
  {
   "cell_type": "code",
   "execution_count": null,
   "metadata": {},
   "outputs": [],
   "source": [
    "#Filtering sex, part time labour and full time labour out of the data frame.\n",
    "filt_unemployed_df = unemployed_df.filter(items= [\"REF_DATE\", \"GEO\", \"Age group\", \"Population\", \"Labour force\", \"Employment\",\"Unemployment\",\n",
    "                           \"Participation rate\", \"Employment rate\", \"Unemployment rate\"])\n",
    "\n",
    "#Dropping NA values\n",
    "filt_unemployed_df.dropna(inplace=True)\n",
    "\n",
    "\n",
    "#Preview of the data\n",
    "filt_unemployed_df.head()"
   ]
  },
  {
   "cell_type": "code",
   "execution_count": null,
   "metadata": {},
   "outputs": [],
   "source": [
    "filt_unemployed_df[\"Year\"] = \"\"\n",
    "filt_unemployed_df[\"Month\"] = \"\"\n",
    "\n",
    "\n",
    "\n",
    "filt_unemployed_df.head()"
   ]
  },
  {
   "cell_type": "code",
   "execution_count": null,
   "metadata": {},
   "outputs": [],
   "source": [
    "for i, row in filt_unemployed_df.iterrows():\n",
    "    date = row[\"REF_DATE\"].split(\"-\")\n",
    "    filt_unemployed_df.loc[i,\"Year\"] = date[0]\n",
    "    filt_unemployed_df.loc[i,\"Month\"] = date[1]\n",
    "   \n",
    "\n",
    "filt_unemployed_df.head()"
   ]
  },
  {
   "cell_type": "code",
   "execution_count": null,
   "metadata": {},
   "outputs": [],
   "source": [
    "filt_unemployed_df = filt_unemployed_df.filter(items= [\"Year\",\"Month\", \"GEO\", \"Age group\", \"Population\", \"Labour force\", \"Employment\",\"Unemployment\",\n",
    "                           \"Participation rate\", \"Employment rate\", \"Unemployment rate\"])\n",
    "\n",
    "filt_unemployed_df.head()"
   ]
  },
  {
   "cell_type": "code",
   "execution_count": null,
   "metadata": {},
   "outputs": [],
   "source": [
    "filt_unemployed_df[\"GEO\"].unique()"
   ]
  },
  {
   "cell_type": "code",
   "execution_count": null,
   "metadata": {},
   "outputs": [],
   "source": [
    "provincial_unemploy = filt_unemployed_df.loc[filt_unemployed_df[\"GEO\"] != \"Canada\"]\n",
    "provincial_unemploy = filt_unemployed_df.loc[filt_unemployed_df[\"Age group\"] == \"15 years and over\"]\n",
    "\n",
    "provincial_unemploy.head()"
   ]
  },
  {
   "cell_type": "markdown",
   "metadata": {},
   "source": [
    "# Unemployment vs Expenditure"
   ]
  },
  {
   "cell_type": "code",
   "execution_count": null,
   "metadata": {},
   "outputs": [],
   "source": []
  },
  {
   "cell_type": "code",
   "execution_count": null,
   "metadata": {},
   "outputs": [],
   "source": []
  },
  {
   "cell_type": "markdown",
   "metadata": {},
   "source": [
    "# Unemployment vs Immigration"
   ]
  },
  {
   "cell_type": "code",
   "execution_count": null,
   "metadata": {},
   "outputs": [],
   "source": [
    "immigration = Path(\"Resources/immigration_rob.csv\")\n",
    "immigration_df = pd.read_csv(immigration)\n",
    "\n",
    "immigration_df.head()"
   ]
  },
  {
   "cell_type": "code",
   "execution_count": null,
   "metadata": {},
   "outputs": [],
   "source": []
  }
 ],
 "metadata": {
  "language_info": {
   "name": "python"
  }
 },
 "nbformat": 4,
 "nbformat_minor": 2
}
